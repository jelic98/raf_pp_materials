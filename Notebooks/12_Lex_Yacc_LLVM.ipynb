{
  "nbformat": 4,
  "nbformat_minor": 0,
  "metadata": {
    "colab": {
      "name": "Vezbe 12 - Lex, Yacc, LLVM",
      "provenance": [],
      "collapsed_sections": []
    },
    "kernelspec": {
      "name": "python3",
      "display_name": "Python 3"
    }
  },
  "cells": [
    {
      "cell_type": "markdown",
      "metadata": {
        "id": "YGEPN7BYQfMc"
      },
      "source": [
        "# Vežbe 12: Lex, Yacc, LLVM\n",
        "\n",
        "[Lex](https://en.wikipedia.org/wiki/Lex_(software)) je računarski program koji generiše leksičke analizatore, tj. leksere/skenere. Lex se ubično koristi uz Yacc generator parsera. Struktura Lex datoteke namerno je slična strukturi Yacc datoteke koja je podeljena u tri odeljka, razdvojena linijama koje sadrže samo dva znaka %, kao što sledi:\n",
        "\n",
        "1. **Odeljak definicije** definiše makronaredbe i importuje zaglavlja napisana u C programskom jeziku. Ovde je takođe moguće napisati bilo koji C kod koji će se kopirati u generisanu izvornu datoteku.\n",
        "\n",
        "2. **Odeljak sa pravilima** povezuje regularne izaze sa C semantičkim strukturama. Kada lekser vidi tekst na ulazu koji odgovara datom pravilu, izvršiće pridruženi C kod.\n",
        "\n",
        "3. **Odeljak C koda** sadrži C semantičke strukture i funkcije koje se kopiraju u generisanu izvornu datoteku. Ovaj odeljak sadrži kod koji se poziva pravilima u prethodnom odeljku.\n",
        "\n",
        "[Yacc](https://en.wikipedia.org/wiki/Yacc) je generator parsera tipa Look-Ahead-Left-to-Right (LALR). Ulaz u Yacc je gramatika sa pridruženim isečcima C koda. Njegov izlaz je Shift-Reduce (SR) parser napisan u C programskom jeziku koji izvršava C kod povezan sa svakim pravilom čim se to pravilo prepozna. Generisanje parsera podrazumeva prethodno generisanje AST.\n",
        "\n",
        "[LLVM](https://drive.google.com/file/d/1UE45xzbdkS_l5hPfzFM6dIR05ZqITz7w/view) je infrastruktura kompajlera sa skupom alatki za njihovu konstrukciju koje se koriste za ravoj Front-end dela kompajlera za bilo koji programski jezik i Back-end dela kompajlera za bilo koju arhitekturu. LLVM je dizajniran oko jezički nezavisne međureprezentacije koja služi kao portabilni assembly kod visokog nivoa koji se može višestruko optimizovati."
      ]
    },
    {
      "cell_type": "markdown",
      "metadata": {
        "id": "BYe1QbLrVMAt"
      },
      "source": [
        "Testiranje Lex/Yacc [implementacije](https://www.dabeaz.com/ply/ply.html)."
      ]
    },
    {
      "cell_type": "code",
      "metadata": {
        "id": "CBKfdRKIRAsQ"
      },
      "source": [
        "path = '/content/drive/Shareddrives/Materijali 2020 2021/5. semestar/Programski prevodioci/Vezbe/data'\n",
        "!cp -r '{path}/ply' . && cp '{path}/ply_test.py' .\n",
        "!python3 'ply_test.py'"
      ],
      "execution_count": null,
      "outputs": []
    },
    {
      "cell_type": "markdown",
      "metadata": {
        "id": "Rkm65o6FTrz7"
      },
      "source": [
        "NAPOMENA: Ćelija ispod se ne može izvršiti kroz IPython."
      ]
    },
    {
      "cell_type": "code",
      "metadata": {
        "id": "WjjH1uSSGQjf"
      },
      "source": [
        "# lex.py\n",
        "\n",
        "tokens = [\n",
        "    'NAME', 'NUMBER',\n",
        "    'PLUS', 'MINUS','TIMES', 'DIVIDE', 'EQUALS',\n",
        "    'LPAREN', 'RPAREN'\n",
        "]\n",
        "\n",
        "t_PLUS    = r'\\+'\n",
        "t_MINUS   = r'-'\n",
        "t_TIMES   = r'\\*'\n",
        "t_DIVIDE  = r'/'\n",
        "t_EQUALS  = r'='\n",
        "t_LPAREN  = r'\\('\n",
        "t_RPAREN  = r'\\)'\n",
        "t_NAME    = r'[a-zA-Z_][a-zA-Z0-9_]*'\n",
        "\n",
        "def t_NUMBER(t):\n",
        "    r'\\d+'\n",
        "    t.value = int(t.value)\n",
        "    return t\n",
        "\n",
        "t_ignore = ' \\t'\n",
        "\n",
        "def t_newline(t):\n",
        "    r'\\n+'\n",
        "    t.lexer.lineno += t.value.count('\\n')\n",
        "\n",
        "def t_error(t):\n",
        "    print(\"Illegal character '%s'\" % t.value[0])\n",
        "    t.lexer.skip(1)\n",
        "\n",
        "import ply.lex as lex\n",
        "lex.lex()\n",
        "\n",
        "# yacc.py\n",
        "\n",
        "precedence = [\n",
        "    ('left', 'PLUS', 'MINUS'),\n",
        "    ('left', 'TIMES', 'DIVIDE'),\n",
        "    ('right', 'UMINUS')\n",
        "]\n",
        "\n",
        "names = {}\n",
        "\n",
        "def p_statement_assign(p):\n",
        "    'statement : NAME EQUALS expression'\n",
        "    names[p[1]] = p[3]\n",
        "\n",
        "def p_statement_expr(p):\n",
        "    'statement : expression'\n",
        "    print(p[1])\n",
        "\n",
        "def p_expression_binop(p):\n",
        "    '''expression : expression PLUS expression\n",
        "                  | expression MINUS expression\n",
        "                  | expression TIMES expression\n",
        "                  | expression DIVIDE expression'''\n",
        "    if p[2] == '+'  : p[0] = p[1] + p[3]\n",
        "    elif p[2] == '-': p[0] = p[1] - p[3]\n",
        "    elif p[2] == '*': p[0] = p[1] * p[3]\n",
        "    elif p[2] == '/': p[0] = p[1] / p[3]\n",
        "\n",
        "def p_expression_uminus(p):\n",
        "    'expression : MINUS expression %prec UMINUS'\n",
        "    p[0] = -p[2]\n",
        "\n",
        "def p_expression_group(p):\n",
        "    'expression : LPAREN expression RPAREN'\n",
        "    p[0] = p[2]\n",
        "\n",
        "def p_expression_number(p):\n",
        "    'expression : NUMBER'\n",
        "    p[0] = p[1]\n",
        "\n",
        "def p_expression_name(p):\n",
        "    'expression : NAME'\n",
        "    try:\n",
        "        p[0] = names[p[1]]\n",
        "    except LookupError:\n",
        "        print(\"Undefined name '%s'\" % p[1])\n",
        "        p[0] = 0\n",
        "\n",
        "def p_error(p):\n",
        "    print(\"Syntax error at '%s'\" % p.value)\n",
        "\n",
        "import ply.yacc as yacc\n",
        "yacc.yacc()\n",
        "\n",
        "while True:\n",
        "    try:\n",
        "        s = input('calc > ')\n",
        "    except EOFError:\n",
        "        break\n",
        "    yacc.parse(s)"
      ],
      "execution_count": null,
      "outputs": []
    },
    {
      "cell_type": "markdown",
      "metadata": {
        "id": "QE9mLx7ZJMAR"
      },
      "source": [
        "Testiranje [llvmlite](https://github.com/numba/llvmlite) biblioteke."
      ]
    },
    {
      "cell_type": "code",
      "metadata": {
        "id": "tx2GTMVmI59n"
      },
      "source": [
        "from llvmlite import ir\n",
        "from llvmlite import binding as llvm"
      ],
      "execution_count": null,
      "outputs": []
    },
    {
      "cell_type": "code",
      "metadata": {
        "id": "y8u4k0rRI75K"
      },
      "source": [
        "m = ir.Module()"
      ],
      "execution_count": null,
      "outputs": []
    },
    {
      "cell_type": "code",
      "metadata": {
        "id": "i_LwxqGnJBOL"
      },
      "source": [
        "# int _(int _)\n",
        "fnty = ir.FunctionType(ir.IntType(32), [ir.IntType(32)])\n",
        "\n",
        "print(fnty)"
      ],
      "execution_count": null,
      "outputs": []
    },
    {
      "cell_type": "code",
      "metadata": {
        "id": "DrrsET4eJFNm"
      },
      "source": [
        "# int count_number(int N)\n",
        "fn = ir.Function(m, fnty, 'count_number')\n",
        "fn.args[0].name = 'N'\n",
        "\n",
        "print(fn)"
      ],
      "execution_count": null,
      "outputs": []
    },
    {
      "cell_type": "code",
      "metadata": {
        "id": "yg89SZBCJHHj"
      },
      "source": [
        "builder = ir.IRBuilder(fn.append_basic_block('entry'))"
      ],
      "execution_count": null,
      "outputs": []
    },
    {
      "cell_type": "code",
      "metadata": {
        "id": "tkQRLlM-JHkI"
      },
      "source": [
        "# int out;\n",
        "out = builder.alloca(ir.IntType(32), name='out')\n",
        "\n",
        "# int ct;\n",
        "ct = builder.alloca(ir.IntType(32), name='ct')\n",
        "\n",
        "# out = 0;\n",
        "builder.store(out.type.pointee(0), out)\n",
        "\n",
        "# ct = 0;\n",
        "builder.store(ct.type.pointee(0), ct)\n",
        "\n",
        "print(fn)"
      ],
      "execution_count": null,
      "outputs": []
    },
    {
      "cell_type": "code",
      "metadata": {
        "id": "99PZbOuqJXgM"
      },
      "source": [
        "loophead = fn.append_basic_block('loop.header')\n",
        "loopbody = fn.append_basic_block('loop.body')\n",
        "loopend = fn.append_basic_block('loop.end')\n",
        "\n",
        "builder.branch(loophead)\n",
        "builder.position_at_end(loophead)\n",
        "\n",
        "# for(; ct < N; )\n",
        "arg0 = fn.args[0]\n",
        "pred = builder.icmp_signed('<', builder.load(ct), arg0)\n",
        "builder.cbranch(pred, loopbody, loopend)\n",
        "\n",
        "print(fn)"
      ],
      "execution_count": null,
      "outputs": []
    },
    {
      "cell_type": "code",
      "metadata": {
        "id": "jYbq8_AYJZSo"
      },
      "source": [
        "builder.position_at_end(loopbody)\n",
        "\n",
        "# out += ct;\n",
        "builder.store(builder.add(builder.load(out), builder.load(ct)), out)\n",
        "# ct += 1;\n",
        "builder.store(builder.add(builder.load(ct), ct.type.pointee(1)), ct)\n",
        "# continue;\n",
        "builder.branch(loophead)\n",
        "\n",
        "print(fn)"
      ],
      "execution_count": null,
      "outputs": []
    },
    {
      "cell_type": "code",
      "metadata": {
        "id": "4ZSDkVYVJZLq"
      },
      "source": [
        "builder.position_at_end(loopend)\n",
        "\n",
        "# return out;\n",
        "builder.ret(builder.load(out))\n",
        "\n",
        "print(fn)"
      ],
      "execution_count": null,
      "outputs": []
    },
    {
      "cell_type": "code",
      "metadata": {
        "id": "P1DQDmvBJgCg"
      },
      "source": [
        "dot = llvm.get_function_cfg(fn)\n",
        "llvm.view_dot_graph(dot)"
      ],
      "execution_count": null,
      "outputs": []
    }
  ]
}