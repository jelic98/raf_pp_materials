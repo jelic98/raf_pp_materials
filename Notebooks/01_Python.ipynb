{
  "nbformat": 4,
  "nbformat_minor": 0,
  "metadata": {
    "colab": {
      "name": "Vezbe 1 - Python",
      "provenance": [],
      "collapsed_sections": []
    },
    "kernelspec": {
      "name": "python3",
      "display_name": "Python 3"
    }
  },
  "cells": [
    {
      "cell_type": "markdown",
      "metadata": {
        "id": "YGEPN7BYQfMc"
      },
      "source": [
        "# Vežbe 1: Python"
      ]
    },
    {
      "cell_type": "code",
      "metadata": {
        "id": "oTyStBg8RCjY"
      },
      "source": [
        "print('Hello world!')"
      ],
      "execution_count": null,
      "outputs": []
    },
    {
      "cell_type": "code",
      "metadata": {
        "id": "wMDD1aX2RFBf"
      },
      "source": [
        "message = 'Hello world!'\n",
        "print('Text:', message)\n",
        "\n",
        "message = 1\n",
        "print('Number:', message)\n",
        "\n",
        "message = 2\n",
        "print('Number:', message, end=', ')\n",
        "\n",
        "message = 3\n",
        "print('Number', message, sep=': ')"
      ],
      "execution_count": null,
      "outputs": []
    },
    {
      "cell_type": "code",
      "metadata": {
        "id": "smmfqL4cSNMF"
      },
      "source": [
        "first_name = 'Linus'\n",
        "last_name = 'Torvalds'\n",
        "\n",
        "full_name = first_name + ' ' + last_name\n",
        "\n",
        "print(full_name)"
      ],
      "execution_count": null,
      "outputs": []
    },
    {
      "cell_type": "code",
      "metadata": {
        "id": "SAlARKKHSPIB"
      },
      "source": [
        "quote = 'Any program is only as good as it is useful'\n",
        "\n",
        "print(f\"{full_name} once said\\n\\t'{quote}'\")"
      ],
      "execution_count": null,
      "outputs": []
    },
    {
      "cell_type": "code",
      "metadata": {
        "id": "c9lshgzKS2t-"
      },
      "source": [
        "def print_math(expr, result):\n",
        "    print(expr, result, sep=' = ')\n",
        "    \n",
        "print_math('3 + 2', 3 + 2)\n",
        "print_math('3 - 2', 3 - 2)\n",
        "print_math('3 * 2', 3 * 2)\n",
        "print_math('3 / 2', 3 / 2)\n",
        "print_math('3 // 2', 3 // 2)\n",
        "print_math('3 ^ 2', 3 ** 2)"
      ],
      "execution_count": null,
      "outputs": []
    },
    {
      "cell_type": "code",
      "metadata": {
        "id": "c_2ff8CaWwA9"
      },
      "source": [
        "students = ['Alice', 'Bob', 'Oscar']\n",
        "\n",
        "total = len(students)\n",
        "\n",
        "print(f'There are {total} students')"
      ],
      "execution_count": null,
      "outputs": []
    },
    {
      "cell_type": "code",
      "metadata": {
        "id": "UVQPjut2TyCQ"
      },
      "source": [
        "for s in students:\n",
        "    print('Hello, ' + s + '!')"
      ],
      "execution_count": null,
      "outputs": []
    },
    {
      "cell_type": "code",
      "metadata": {
        "id": "2y1H8FSJWmQ8"
      },
      "source": [
        "for s in reversed(students):\n",
        "    print('Hello, ' + s + '!')"
      ],
      "execution_count": null,
      "outputs": []
    },
    {
      "cell_type": "code",
      "metadata": {
        "id": "dfkEqwrGT9J7"
      },
      "source": [
        "print('First:', students[0])\n",
        "print('Second:', students[1])\n",
        "print('Last:', students[-1])\n",
        "print('Second-last:', students[-2])"
      ],
      "execution_count": null,
      "outputs": []
    },
    {
      "cell_type": "code",
      "metadata": {
        "id": "KAXtOj9VUwcI"
      },
      "source": [
        "i = 0\n",
        "for s in students:\n",
        "    i += 1\n",
        "    print('{}. student is {}'.format(i, s))"
      ],
      "execution_count": null,
      "outputs": []
    },
    {
      "cell_type": "code",
      "metadata": {
        "id": "nEGR7y1rUdd8"
      },
      "source": [
        "for i, s in enumerate(students):\n",
        "    print('{}. student is {}'.format(i + 1, s))"
      ],
      "execution_count": null,
      "outputs": []
    },
    {
      "cell_type": "code",
      "metadata": {
        "id": "9Fbgkmr2U_Qh"
      },
      "source": [
        "print('Before:', students)\n",
        "\n",
        "students[2] = 'Caprice'\n",
        "\n",
        "print('After:', students)"
      ],
      "execution_count": null,
      "outputs": []
    },
    {
      "cell_type": "code",
      "metadata": {
        "id": "_VQ_AhHOVO-L"
      },
      "source": [
        "students[99] = 'Oscar'"
      ],
      "execution_count": null,
      "outputs": []
    },
    {
      "cell_type": "code",
      "metadata": {
        "id": "uP116AAVVcFn"
      },
      "source": [
        "print('Caprice' in students)\n",
        "print('Oscar' in students)"
      ],
      "execution_count": null,
      "outputs": []
    },
    {
      "cell_type": "code",
      "metadata": {
        "id": "aCvrR8dVVnqr"
      },
      "source": [
        "print('Before:', students)\n",
        "\n",
        "students.append('Danny')\n",
        "\n",
        "print('After:', students)"
      ],
      "execution_count": null,
      "outputs": []
    },
    {
      "cell_type": "code",
      "metadata": {
        "id": "8DGaDDs9VyjM"
      },
      "source": [
        "even = []\n",
        "odd = []\n",
        "\n",
        "for i, s in enumerate(students):\n",
        "    if i % 2 == 0:\n",
        "        even.append(s)\n",
        "    else:\n",
        "        odd.append(s)\n",
        "\n",
        "print(even)\n",
        "print(odd)"
      ],
      "execution_count": null,
      "outputs": []
    },
    {
      "cell_type": "code",
      "metadata": {
        "id": "3uo2lzh-eTnG"
      },
      "source": [
        "all = [s for s in students]\n",
        "print(all)\n",
        "\n",
        "enums = [(i, s) for i, s in enumerate(all)]\n",
        "print(enums)\n",
        "\n",
        "even = [s for i, s in enums if i % 2 == 0]\n",
        "print(even)\n",
        "\n",
        "odd = [s for i, s in enums if i % 2 != 0]\n",
        "print(odd)"
      ],
      "execution_count": null,
      "outputs": []
    },
    {
      "cell_type": "code",
      "metadata": {
        "id": "oh30Re9RXCzq"
      },
      "source": [
        "print(students)\n",
        "print(students[1:3])\n",
        "print(students[1:])\n",
        "print(students[:3])\n",
        "print(students[:-1])\n",
        "print(students[:-2])"
      ],
      "execution_count": null,
      "outputs": []
    },
    {
      "cell_type": "code",
      "metadata": {
        "id": "k3Jh4fvWXnlC"
      },
      "source": [
        "for i in range(10):\n",
        "    print(i, end=' ')"
      ],
      "execution_count": null,
      "outputs": []
    },
    {
      "cell_type": "code",
      "metadata": {
        "id": "WKvEAF_tXx-f"
      },
      "source": [
        "for i in range(3, 10):\n",
        "    print(i, end=' ')"
      ],
      "execution_count": null,
      "outputs": []
    },
    {
      "cell_type": "code",
      "metadata": {
        "id": "Wie9L_o7X0d4"
      },
      "source": [
        "for i in range(3, 10, 2):\n",
        "    print(i, end=' ')"
      ],
      "execution_count": null,
      "outputs": []
    },
    {
      "cell_type": "code",
      "metadata": {
        "id": "Sni-EM5DX6l9"
      },
      "source": [
        "print('Before:', students)\n",
        "\n",
        "del students[1]\n",
        "\n",
        "print('After:', students)"
      ],
      "execution_count": null,
      "outputs": []
    },
    {
      "cell_type": "code",
      "metadata": {
        "id": "Rkju3Xq1fciL"
      },
      "source": [
        "grades = {'Alice': 10, 'Bob': 9, 'Caprice': 5, 'Danny': 9}\n",
        "print(grades)"
      ],
      "execution_count": null,
      "outputs": []
    },
    {
      "cell_type": "code",
      "metadata": {
        "id": "PWpOQTOEfze_"
      },
      "source": [
        "grades['Oscar'] = 7\n",
        "print(grades)"
      ],
      "execution_count": null,
      "outputs": []
    },
    {
      "cell_type": "code",
      "metadata": {
        "id": "QqsovmsUgBTa"
      },
      "source": [
        "grades['Oscar'] = 99\n",
        "print(grades)"
      ],
      "execution_count": null,
      "outputs": []
    },
    {
      "cell_type": "code",
      "metadata": {
        "id": "v0KemFPOf-Mq"
      },
      "source": [
        "del grades['Oscar']\n",
        "print(grades)"
      ],
      "execution_count": null,
      "outputs": []
    },
    {
      "cell_type": "code",
      "metadata": {
        "id": "hJSX0mFugLBE"
      },
      "source": [
        "for key, value in grades.items():\n",
        "    print('Student {} has {}'.format(key, value))"
      ],
      "execution_count": null,
      "outputs": []
    },
    {
      "cell_type": "code",
      "metadata": {
        "id": "E99BVD_LgdlS"
      },
      "source": [
        "for key, value in grades.items():\n",
        "    if value == 10:\n",
        "        print('{} is an excellent student'.format(key))\n",
        "    elif value == 5:\n",
        "        print('{} did not pass'.format(key))\n",
        "    else:\n",
        "        print('{} is a good student'.format(key))"
      ],
      "execution_count": null,
      "outputs": []
    },
    {
      "cell_type": "code",
      "metadata": {
        "id": "NqYFcNI7hXGR"
      },
      "source": [
        "def flexible_sum(a, b = 0):\n",
        "    return a + b\n",
        "\n",
        "print(flexible_sum(3, 2))\n",
        "print(flexible_sum(3))\n",
        "print(flexible_sum(b=2, a=3))"
      ],
      "execution_count": null,
      "outputs": []
    },
    {
      "cell_type": "code",
      "metadata": {
        "id": "fyBLM0Tdh7hu"
      },
      "source": [
        "def div(a, b):\n",
        "    try:\n",
        "        return a / b\n",
        "    except ZeroDivisionError:\n",
        "        print('Divisor is zero')\n",
        "        return None\n",
        "\n",
        "div(3, 0)"
      ],
      "execution_count": null,
      "outputs": []
    },
    {
      "cell_type": "code",
      "metadata": {
        "id": "s9On8RhdidXS"
      },
      "source": [
        "class Animal:\n",
        "    def __init__(self, sound):\n",
        "        self.sound = sound\n",
        "    \n",
        "    def play_sound(self):\n",
        "        print(self.sound)\n",
        "\n",
        "\n",
        "class Dog(Animal):\n",
        "    def __init__(self):\n",
        "        super(Dog, self).__init__('Bark!')"
      ],
      "execution_count": null,
      "outputs": []
    },
    {
      "cell_type": "code",
      "metadata": {
        "id": "hhCLIq2qjQI4"
      },
      "source": [
        "d = Dog()\n",
        "d.play_sound()"
      ],
      "execution_count": null,
      "outputs": []
    },
    {
      "cell_type": "code",
      "metadata": {
        "id": "dQce-bqfiiAZ"
      },
      "source": [
        "path = '/content/drive/Shared drives/Materijali 2020 2021/5. semestar/Programski prevodioci/Vezbe/data/wiki.txt'\n",
        "!cat '{path}'"
      ],
      "execution_count": null,
      "outputs": []
    },
    {
      "cell_type": "code",
      "metadata": {
        "id": "5en9mYc6i_0J"
      },
      "source": [
        "with open(path, 'r') as source:\n",
        "    text = source.read()\n",
        "    length = len(text)\n",
        "\n",
        "    i = 0\n",
        "    buffer = ''\n",
        "    flag_number = False\n",
        "    flag_upper = False\n",
        "    flag_lower = False\n",
        "\n",
        "    while i <= length:\n",
        "        if i < length:\n",
        "            curr = text[i]\n",
        "            ascii = ord(curr[0])\n",
        "        i += 1\n",
        "        if curr == ' ' or curr == '\\n' or curr == '-' or i == length:\n",
        "            if flag_number:\n",
        "                print(buffer, 'NUMBER')\n",
        "            elif flag_upper:\n",
        "                print(buffer, 'UPPER')\n",
        "            elif flag_lower:\n",
        "                print(buffer, 'LOWER')\n",
        "            buffer = ''\n",
        "            flag_number = False\n",
        "            flag_upper = False\n",
        "            flag_lower = False\n",
        "            continue\n",
        "        elif curr == ',' or curr == '.' or curr == '!':\n",
        "            continue\n",
        "        elif ascii >= 48 and ascii <= 57:\n",
        "            flag_number = True\n",
        "        elif ascii >= 65 and ascii <= 90:\n",
        "            flag_upper = True\n",
        "        elif ascii >= 97 and ascii <= 122:\n",
        "            flag_lower = True\n",
        "        buffer += curr\n",
        "\n",
        "    print(buffer)"
      ],
      "execution_count": null,
      "outputs": []
    },
    {
      "cell_type": "code",
      "metadata": {
        "id": "qWEHyCcXdzbz"
      },
      "source": [
        "with open(path, 'r') as source:\n",
        "    text = source.read()\n",
        "\n",
        "    for chunk in text.split():\n",
        "        chunk = chunk.replace(',', '').replace('.', '').replace('!', '')\n",
        "        for token in chunk.split('-'):\n",
        "            if token.isnumeric():\n",
        "                print(token, 'NUMBER')\n",
        "            elif token[0].isupper():\n",
        "                print(token, 'UPPER')\n",
        "            else:\n",
        "                print(token, 'LOWER')"
      ],
      "execution_count": null,
      "outputs": []
    }
  ]
}