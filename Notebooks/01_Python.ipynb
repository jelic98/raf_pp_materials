{
  "nbformat": 4,
  "nbformat_minor": 0,
  "metadata": {
    "colab": {
      "name": "Vezbe 1 - Python",
      "provenance": [],
      "collapsed_sections": []
    },
    "kernelspec": {
      "name": "python3",
      "display_name": "Python 3"
    }
  },
  "cells": [
    {
      "cell_type": "markdown",
      "metadata": {
        "id": "YGEPN7BYQfMc",
        "colab_type": "text"
      },
      "source": [
        "# Vežbe 1: Python"
      ]
    },
    {
      "cell_type": "code",
      "metadata": {
        "id": "oTyStBg8RCjY",
        "colab_type": "code",
        "colab": {}
      },
      "source": [
        "print('Hello world!')"
      ],
      "execution_count": null,
      "outputs": []
    },
    {
      "cell_type": "code",
      "metadata": {
        "id": "wMDD1aX2RFBf",
        "colab_type": "code",
        "colab": {}
      },
      "source": [
        "message = 'Hello world!'\n",
        "print('Text:', message)\n",
        "\n",
        "message = 1\n",
        "print('Number:', message)\n",
        "\n",
        "message = 2\n",
        "print('Number:', message, end=', ')\n",
        "\n",
        "message = 3\n",
        "print('Number', message, sep=': ')"
      ],
      "execution_count": null,
      "outputs": []
    },
    {
      "cell_type": "code",
      "metadata": {
        "id": "smmfqL4cSNMF",
        "colab_type": "code",
        "colab": {}
      },
      "source": [
        "first_name = 'Linus'\n",
        "last_name = 'Torvalds'\n",
        "\n",
        "full_name = first_name + ' ' + last_name\n",
        "\n",
        "print(full_name)"
      ],
      "execution_count": null,
      "outputs": []
    },
    {
      "cell_type": "code",
      "metadata": {
        "id": "SAlARKKHSPIB",
        "colab_type": "code",
        "colab": {}
      },
      "source": [
        "quote = 'Any program is only as good as it is useful'\n",
        "\n",
        "print(f\"{full_name} once said\\n\\t'{quote}'\")"
      ],
      "execution_count": null,
      "outputs": []
    },
    {
      "cell_type": "code",
      "metadata": {
        "id": "c9lshgzKS2t-",
        "colab_type": "code",
        "colab": {}
      },
      "source": [
        "def print_math(izraz, result):\n",
        "    print(izraz, result, sep=' = ')\n",
        "\n",
        "print_math('3 + 2', 3 + 2)\n",
        "print_math('3 - 2', 3 - 2)\n",
        "print_math('3 * 2', 3 * 2)\n",
        "print_math('3 / 2', 3 / 2)\n",
        "print_math('3 // 2', 3 // 2)\n",
        "print_math('3 ^ 2', 3 ** 2)"
      ],
      "execution_count": null,
      "outputs": []
    },
    {
      "cell_type": "code",
      "metadata": {
        "id": "c_2ff8CaWwA9",
        "colab_type": "code",
        "colab": {}
      },
      "source": [
        "students = ['Alice', 'Bob', 'Oscar']\n",
        "\n",
        "total = len(students)\n",
        "\n",
        "print(f'There are {total} students')"
      ],
      "execution_count": null,
      "outputs": []
    },
    {
      "cell_type": "code",
      "metadata": {
        "id": "UVQPjut2TyCQ",
        "colab_type": "code",
        "colab": {}
      },
      "source": [
        "for s in students:\n",
        "    print('Hello, ' + s + '!')"
      ],
      "execution_count": null,
      "outputs": []
    },
    {
      "cell_type": "code",
      "metadata": {
        "id": "2y1H8FSJWmQ8",
        "colab_type": "code",
        "colab": {}
      },
      "source": [
        "for s in reversed(students):\n",
        "    print('Hello, ' + s + '!')"
      ],
      "execution_count": null,
      "outputs": []
    },
    {
      "cell_type": "code",
      "metadata": {
        "id": "dfkEqwrGT9J7",
        "colab_type": "code",
        "colab": {}
      },
      "source": [
        "print('First:', students[0])\n",
        "print('Second:', students[1])\n",
        "print('Last:', students[-1])\n",
        "print('Second-last:', students[-2])"
      ],
      "execution_count": null,
      "outputs": []
    },
    {
      "cell_type": "code",
      "metadata": {
        "id": "KAXtOj9VUwcI",
        "colab_type": "code",
        "colab": {}
      },
      "source": [
        "i = 0\n",
        "for s in students:\n",
        "    i += 1\n",
        "    print('{}. student is {}'.format(i, s))"
      ],
      "execution_count": null,
      "outputs": []
    },
    {
      "cell_type": "code",
      "metadata": {
        "id": "nEGR7y1rUdd8",
        "colab_type": "code",
        "colab": {}
      },
      "source": [
        "for i, s in enumerate(students):\n",
        "    print('{}. student is {}'.format(i + 1, s))"
      ],
      "execution_count": null,
      "outputs": []
    },
    {
      "cell_type": "code",
      "metadata": {
        "id": "9Fbgkmr2U_Qh",
        "colab_type": "code",
        "colab": {}
      },
      "source": [
        "print('Before:', students)\n",
        "\n",
        "students[2] = 'Caprice'\n",
        "\n",
        "print('After:', students)"
      ],
      "execution_count": null,
      "outputs": []
    },
    {
      "cell_type": "code",
      "metadata": {
        "id": "_VQ_AhHOVO-L",
        "colab_type": "code",
        "colab": {}
      },
      "source": [
        "students[99] = 'Oscar'"
      ],
      "execution_count": null,
      "outputs": []
    },
    {
      "cell_type": "code",
      "metadata": {
        "id": "uP116AAVVcFn",
        "colab_type": "code",
        "colab": {}
      },
      "source": [
        "print('Caprice' in students)\n",
        "print('Oscar' in students)"
      ],
      "execution_count": null,
      "outputs": []
    },
    {
      "cell_type": "code",
      "metadata": {
        "id": "aCvrR8dVVnqr",
        "colab_type": "code",
        "colab": {}
      },
      "source": [
        "print('Before:', students)\n",
        "\n",
        "students.append('Danny')\n",
        "\n",
        "print('After:', students)"
      ],
      "execution_count": null,
      "outputs": []
    },
    {
      "cell_type": "code",
      "metadata": {
        "id": "8DGaDDs9VyjM",
        "colab_type": "code",
        "colab": {}
      },
      "source": [
        "even = []\n",
        "odd = []\n",
        "\n",
        "for i, s in enumerate(students):\n",
        "    if i % 2 == 0:\n",
        "        even.append(s)\n",
        "    else:\n",
        "        odd.append(s)\n",
        "\n",
        "print(even)\n",
        "print(odd)"
      ],
      "execution_count": null,
      "outputs": []
    },
    {
      "cell_type": "code",
      "metadata": {
        "id": "3uo2lzh-eTnG",
        "colab_type": "code",
        "colab": {}
      },
      "source": [
        "all = [s for s in students]\n",
        "print(all)\n",
        "\n",
        "enums = [(i, s) for i, s in enumerate(all)]\n",
        "print(enums)\n",
        "\n",
        "even = [s for i, s in enums if i % 2 == 0]\n",
        "print(even)\n",
        "\n",
        "odd = [s for i, s in enums if i % 2 != 0]\n",
        "print(odd)"
      ],
      "execution_count": null,
      "outputs": []
    },
    {
      "cell_type": "code",
      "metadata": {
        "id": "oh30Re9RXCzq",
        "colab_type": "code",
        "colab": {}
      },
      "source": [
        "print(students)\n",
        "print(students[1:3])\n",
        "print(students[1:])\n",
        "print(students[:3])\n",
        "print(students[:-1])\n",
        "print(students[:-2])"
      ],
      "execution_count": null,
      "outputs": []
    },
    {
      "cell_type": "code",
      "metadata": {
        "id": "k3Jh4fvWXnlC",
        "colab_type": "code",
        "colab": {}
      },
      "source": [
        "for i in range(10):\n",
        "    print(i, end=' ')"
      ],
      "execution_count": null,
      "outputs": []
    },
    {
      "cell_type": "code",
      "metadata": {
        "id": "WKvEAF_tXx-f",
        "colab_type": "code",
        "colab": {}
      },
      "source": [
        "for i in range(3, 10):\n",
        "    print(i, end=' ')"
      ],
      "execution_count": null,
      "outputs": []
    },
    {
      "cell_type": "code",
      "metadata": {
        "id": "Wie9L_o7X0d4",
        "colab_type": "code",
        "colab": {}
      },
      "source": [
        "for i in range(3, 10, 2):\n",
        "    print(i, end=' ')"
      ],
      "execution_count": null,
      "outputs": []
    },
    {
      "cell_type": "code",
      "metadata": {
        "id": "Sni-EM5DX6l9",
        "colab_type": "code",
        "colab": {}
      },
      "source": [
        "print('Before:', students)\n",
        "\n",
        "del students[1]\n",
        "\n",
        "print('After:', students)"
      ],
      "execution_count": null,
      "outputs": []
    },
    {
      "cell_type": "code",
      "metadata": {
        "id": "Rkju3Xq1fciL",
        "colab_type": "code",
        "colab": {}
      },
      "source": [
        "grades = {'Alice': 10, 'Bob': 9, 'Caprice': 5, 'Danny': 9}\n",
        "print(grades)"
      ],
      "execution_count": null,
      "outputs": []
    },
    {
      "cell_type": "code",
      "metadata": {
        "id": "PWpOQTOEfze_",
        "colab_type": "code",
        "colab": {}
      },
      "source": [
        "grades['Oscar'] = 7\n",
        "print(grades)"
      ],
      "execution_count": null,
      "outputs": []
    },
    {
      "cell_type": "code",
      "metadata": {
        "id": "QqsovmsUgBTa",
        "colab_type": "code",
        "colab": {}
      },
      "source": [
        "grades['Oscar'] = 99\n",
        "print(grades)"
      ],
      "execution_count": null,
      "outputs": []
    },
    {
      "cell_type": "code",
      "metadata": {
        "id": "v0KemFPOf-Mq",
        "colab_type": "code",
        "colab": {}
      },
      "source": [
        "del grades['Oscar']\n",
        "print(grades)"
      ],
      "execution_count": null,
      "outputs": []
    },
    {
      "cell_type": "code",
      "metadata": {
        "id": "hJSX0mFugLBE",
        "colab_type": "code",
        "colab": {}
      },
      "source": [
        "for key, value in grades.items():\n",
        "    print('Student {} has {}'.format(key, value))"
      ],
      "execution_count": null,
      "outputs": []
    },
    {
      "cell_type": "code",
      "metadata": {
        "id": "E99BVD_LgdlS",
        "colab_type": "code",
        "colab": {}
      },
      "source": [
        "for key, value in grades.items():\n",
        "    if value == 10:\n",
        "        print('{} is an excellent student'.format(key))\n",
        "    elif value == 5:\n",
        "        print('{} did not pass'.format(key))\n",
        "    else:\n",
        "        print('{} is a good student'.format(key))"
      ],
      "execution_count": null,
      "outputs": []
    },
    {
      "cell_type": "code",
      "metadata": {
        "id": "NqYFcNI7hXGR",
        "colab_type": "code",
        "colab": {}
      },
      "source": [
        "def flexible_sum(a, b = 0):\n",
        "    return a + b\n",
        "\n",
        "print(flexible_sum(3, 2))\n",
        "print(flexible_sum(3))\n",
        "print(flexible_sum(b=2, a=3))"
      ],
      "execution_count": null,
      "outputs": []
    },
    {
      "cell_type": "code",
      "metadata": {
        "id": "fyBLM0Tdh7hu",
        "colab_type": "code",
        "colab": {}
      },
      "source": [
        "def div(a, b):\n",
        "    try:\n",
        "        return a / b\n",
        "    except ZeroDivisionError:\n",
        "        print('Divisor is zero')\n",
        "        return None\n",
        "\n",
        "div(3, 0)"
      ],
      "execution_count": null,
      "outputs": []
    },
    {
      "cell_type": "code",
      "metadata": {
        "id": "s9On8RhdidXS",
        "colab_type": "code",
        "colab": {}
      },
      "source": [
        "class Animal:\n",
        "    def __init__(self, sound):\n",
        "        self.sound = sound\n",
        "    \n",
        "    def play_sound(self):\n",
        "        print(self.sound)\n",
        "\n",
        "\n",
        "class Dog(Animal):\n",
        "    def __init__(self):\n",
        "        super(Dog, self).__init__('Bark!')"
      ],
      "execution_count": null,
      "outputs": []
    },
    {
      "cell_type": "code",
      "metadata": {
        "id": "hhCLIq2qjQI4",
        "colab_type": "code",
        "colab": {}
      },
      "source": [
        "d = Dog()\n",
        "d.play_sound()"
      ],
      "execution_count": null,
      "outputs": []
    },
    {
      "cell_type": "code",
      "metadata": {
        "id": "dQce-bqfiiAZ",
        "colab_type": "code",
        "colab": {}
      },
      "source": [
        "path = '/content/drive/My Drive/PP/data/wiki.txt'\n",
        "!cat '{path}'"
      ],
      "execution_count": null,
      "outputs": []
    },
    {
      "cell_type": "code",
      "metadata": {
        "id": "5en9mYc6i_0J",
        "colab_type": "code",
        "colab": {}
      },
      "source": [
        "with open(path, 'r') as source:\n",
        "    text = source.read()\n",
        "    length = len(text)\n",
        "\n",
        "    i = 0\n",
        "    buffer = ''\n",
        "    flag_number = False\n",
        "    flag_upper = False\n",
        "    flag_lower = False\n",
        "\n",
        "    while i <= length:\n",
        "        if i < length:\n",
        "            curr = text[i]\n",
        "            ascii = ord(curr[0])\n",
        "        i += 1\n",
        "        if curr == ' ' or curr == '\\n' or curr == '-' or i == length:\n",
        "            if flag_number:\n",
        "                print(buffer, 'NUMBER')\n",
        "            elif flag_upper:\n",
        "                print(buffer, 'UPPER')\n",
        "            elif flag_lower:\n",
        "                print(buffer, 'LOWER')\n",
        "            buffer = ''\n",
        "            flag_number = False\n",
        "            flag_upper = False\n",
        "            flag_lower = False\n",
        "            continue\n",
        "        elif curr == ',' or curr == '.' or curr == '!':\n",
        "            continue\n",
        "        elif ascii >= 48 and ascii <= 57:\n",
        "            flag_number = True\n",
        "        elif ascii >= 65 and ascii <= 90:\n",
        "            flag_upper = True\n",
        "        elif ascii >= 97 and ascii <= 122:\n",
        "            flag_lower = True\n",
        "        buffer += curr\n",
        "\n",
        "    print(buffer)"
      ],
      "execution_count": null,
      "outputs": []
    },
    {
      "cell_type": "code",
      "metadata": {
        "id": "qWEHyCcXdzbz",
        "colab_type": "code",
        "colab": {}
      },
      "source": [
        "with open(path, 'r') as source:\n",
        "    text = source.read()\n",
        "\n",
        "    for chunk in text.split():\n",
        "        chunk = chunk.replace(',', '').replace('.', '').replace('!', '')\n",
        "        for token in chunk.split('-'):\n",
        "            if token.isnumeric():\n",
        "                print(token, 'NUMBER')\n",
        "            elif token[0].isupper():\n",
        "                print(token, 'UPPER')\n",
        "            else:\n",
        "                print(token, 'LOWER')"
      ],
      "execution_count": null,
      "outputs": []
    }
  ]
}