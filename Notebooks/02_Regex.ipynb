{
  "nbformat": 4,
  "nbformat_minor": 0,
  "metadata": {
    "colab": {
      "name": "Vezbe 2 - Regex",
      "provenance": [],
      "collapsed_sections": []
    },
    "kernelspec": {
      "name": "python3",
      "display_name": "Python 3"
    }
  },
  "cells": [
    {
      "cell_type": "markdown",
      "metadata": {
        "id": "YGEPN7BYQfMc"
      },
      "source": [
        "# Vežbe 2: Regex\n",
        "\n",
        "Autor: Lazar Jelić\n",
        "\n",
        "Repozitorijum: https://github.com/jelic98/raf_pp_materials"
      ]
    },
    {
      "cell_type": "code",
      "metadata": {
        "id": "oTyStBg8RCjY"
      },
      "source": [
        "import re"
      ],
      "execution_count": null,
      "outputs": []
    },
    {
      "cell_type": "code",
      "metadata": {
        "id": "3g4PT9GQZTlh"
      },
      "source": [
        "text = 'The quick brown fox born on 1/23/2013\\tjumped over the lazy dog born on 10/6/10.'"
      ],
      "execution_count": null,
      "outputs": []
    },
    {
      "cell_type": "code",
      "metadata": {
        "id": "G_xPnH47aYak"
      },
      "source": [
        "re.sub('dog', 'elephant', text)"
      ],
      "execution_count": null,
      "outputs": []
    },
    {
      "cell_type": "code",
      "metadata": {
        "id": "dDC_GdONask2"
      },
      "source": [
        "re.split(' ', text)"
      ],
      "execution_count": null,
      "outputs": []
    },
    {
      "cell_type": "code",
      "metadata": {
        "id": "ktKbvc6aZcW3"
      },
      "source": [
        "re.match('The', text)"
      ],
      "execution_count": null,
      "outputs": []
    },
    {
      "cell_type": "code",
      "metadata": {
        "id": "NX5p7QLlabcm"
      },
      "source": [
        "re.match('the', text)"
      ],
      "execution_count": null,
      "outputs": []
    },
    {
      "cell_type": "code",
      "metadata": {
        "id": "3KceQWosZ-1L"
      },
      "source": [
        "re.search('the', text)"
      ],
      "execution_count": null,
      "outputs": []
    },
    {
      "cell_type": "code",
      "metadata": {
        "id": "KPzPtReMZ31W"
      },
      "source": [
        "re.findall('The', text, re.IGNORECASE)"
      ],
      "execution_count": null,
      "outputs": []
    },
    {
      "cell_type": "code",
      "metadata": {
        "id": "TBVH2X92bbDa"
      },
      "source": [
        "re.findall('The', text, re.I)"
      ],
      "execution_count": null,
      "outputs": []
    },
    {
      "cell_type": "code",
      "metadata": {
        "id": "3zIqm6DBaQ-U"
      },
      "source": [
        "re.findall('fox|dog', text)"
      ],
      "execution_count": null,
      "outputs": []
    },
    {
      "cell_type": "code",
      "metadata": {
        "id": "-jGscU9fbL_5"
      },
      "source": [
        "re.findall('[0-9]', text)"
      ],
      "execution_count": null,
      "outputs": []
    },
    {
      "cell_type": "code",
      "metadata": {
        "id": "ENKgGlqGbi-Z"
      },
      "source": [
        "re.findall('\\d', text)"
      ],
      "execution_count": null,
      "outputs": []
    },
    {
      "cell_type": "code",
      "metadata": {
        "id": "cIxaUZfswm9-"
      },
      "source": [
        "re.findall('\\D', text)"
      ],
      "execution_count": null,
      "outputs": []
    },
    {
      "cell_type": "code",
      "metadata": {
        "id": "nirmaUXhcFMj"
      },
      "source": [
        "re.findall('[a-z]', text)"
      ],
      "execution_count": null,
      "outputs": []
    },
    {
      "cell_type": "code",
      "metadata": {
        "id": "ZeJPYWOlcKLb"
      },
      "source": [
        "re.findall('[a-zA-Z]', text)"
      ],
      "execution_count": null,
      "outputs": []
    },
    {
      "cell_type": "code",
      "metadata": {
        "id": "NTiDDPtaJJCl"
      },
      "source": [
        "re.findall('[a-zA-Z0-9_]', text)"
      ],
      "execution_count": null,
      "outputs": []
    },
    {
      "cell_type": "code",
      "metadata": {
        "id": "gKVfmWkxbnDa"
      },
      "source": [
        "re.findall('\\w', text)"
      ],
      "execution_count": null,
      "outputs": []
    },
    {
      "cell_type": "code",
      "metadata": {
        "id": "RCfxTj5McQtv"
      },
      "source": [
        "re.findall('\\w+', text)"
      ],
      "execution_count": null,
      "outputs": []
    },
    {
      "cell_type": "code",
      "metadata": {
        "id": "KL1O7fzfcTiy"
      },
      "source": [
        "re.findall('\\w+.', text)"
      ],
      "execution_count": null,
      "outputs": []
    },
    {
      "cell_type": "code",
      "metadata": {
        "id": "8eEw_gHGccvx"
      },
      "source": [
        "re.findall('\\w+\\.', text)"
      ],
      "execution_count": null,
      "outputs": []
    },
    {
      "cell_type": "code",
      "metadata": {
        "id": "Lz-PjjZEchWn"
      },
      "source": [
        "re.findall('^\\w+', text)"
      ],
      "execution_count": null,
      "outputs": []
    },
    {
      "cell_type": "code",
      "metadata": {
        "id": "JCQm01iuckHx"
      },
      "source": [
        "re.findall('[^\\w+]', text)"
      ],
      "execution_count": null,
      "outputs": []
    },
    {
      "cell_type": "code",
      "metadata": {
        "id": "douEUDUfcl_7"
      },
      "source": [
        "re.findall('[^\\s]+', text)"
      ],
      "execution_count": null,
      "outputs": []
    },
    {
      "cell_type": "code",
      "metadata": {
        "id": "jFk-LeHOc5MN"
      },
      "source": [
        "re.findall('/\\d+\\s', text)"
      ],
      "execution_count": null,
      "outputs": []
    },
    {
      "cell_type": "code",
      "metadata": {
        "id": "QbA7LyDic-hw"
      },
      "source": [
        "re.findall('/\\d+[\\s\\.]', text)"
      ],
      "execution_count": null,
      "outputs": []
    },
    {
      "cell_type": "code",
      "metadata": {
        "id": "ElFkX_feeE9a"
      },
      "source": [
        "# Positive lookahead (?=...)\n",
        "# Positive lookbehind (?<=...)\n",
        "# Negative lookahead (?!...)\n",
        "# Negative lookbehind (?<!...)\n",
        "\n",
        "re.findall('/\\d+(?=[\\s\\.])', text)"
      ],
      "execution_count": null,
      "outputs": []
    },
    {
      "cell_type": "code",
      "metadata": {
        "id": "2WJLBR8ueK8V"
      },
      "source": [
        "re.findall('(?<=/)\\d+(?=[\\s\\.])', text)"
      ],
      "execution_count": null,
      "outputs": []
    },
    {
      "cell_type": "code",
      "metadata": {
        "id": "LYnxaeAjdmJa"
      },
      "source": [
        "re.findall('[Tt]he\\s\\w+', text)"
      ],
      "execution_count": null,
      "outputs": []
    },
    {
      "cell_type": "code",
      "metadata": {
        "id": "hIi6iiCMeclE"
      },
      "source": [
        "re.findall('(?i)the\\s\\w+', text)"
      ],
      "execution_count": null,
      "outputs": []
    },
    {
      "cell_type": "code",
      "metadata": {
        "id": "SA0Nh82ldNu3"
      },
      "source": [
        "re.findall('\\w{2}', text)"
      ],
      "execution_count": null,
      "outputs": []
    },
    {
      "cell_type": "code",
      "metadata": {
        "id": "ifChSqHZdS6N"
      },
      "source": [
        "re.findall('\\w{2,5}', text)"
      ],
      "execution_count": null,
      "outputs": []
    },
    {
      "cell_type": "code",
      "metadata": {
        "id": "Gsh5Dkp1dWJm"
      },
      "source": [
        "re.findall('\\w{2,}', text)"
      ],
      "execution_count": null,
      "outputs": []
    },
    {
      "cell_type": "code",
      "metadata": {
        "id": "5ACCbrI9fJf1"
      },
      "source": [
        "re.findall('\\w{,5}', text)"
      ],
      "execution_count": null,
      "outputs": []
    },
    {
      "cell_type": "code",
      "metadata": {
        "id": "bl3XYA77dcSN"
      },
      "source": [
        "re.findall('^.*$', text)"
      ],
      "execution_count": null,
      "outputs": []
    },
    {
      "cell_type": "code",
      "metadata": {
        "id": "xH5X9DRzhDoQ"
      },
      "source": [
        "def run(test, pattern):\n",
        "    should_pass = True\n",
        "    ok = True\n",
        "    for t in test:\n",
        "        if len(t) == 0:\n",
        "            should_pass = False\n",
        "            continue\n",
        "        match = re.match(pattern, t)\n",
        "        match_str = 'PASS' if match else 'FAIL'\n",
        "        correct = match and should_pass or not match and not should_pass\n",
        "        correct_str = 'CORRECT' if correct else 'INCORRECT'\n",
        "        ok = ok and correct\n",
        "        print('{}: {} {}'.format(correct_str, match_str, t))\n",
        "    print('OK' if ok else 'NOT OK')"
      ],
      "execution_count": null,
      "outputs": []
    },
    {
      "cell_type": "code",
      "metadata": {
        "id": "le_l73n2klOO"
      },
      "source": [
        "test1 = [\n",
        "    'jlpbdla',          #PASS\n",
        "    'mbj___kds',        #PASS\n",
        "    'v_ds',             #PASS\n",
        "    'grsghhjn',         #PASS\n",
        "    'df6516sdf1132as',  #PASS\n",
        "    '',\n",
        "    '%%#$'              #FAIL\n",
        "]\n",
        "\n",
        "run(test1, '^\\w+$')"
      ],
      "execution_count": null,
      "outputs": []
    },
    {
      "cell_type": "code",
      "metadata": {
        "id": "4BhDHr4Skl17"
      },
      "source": [
        "test2 = [\n",
        "    'ad45ech35ddg1',    #PASS\n",
        "    'sss4668aa',        #PASS\n",
        "    '45fdd6ss2',        #PASS\n",
        "    '132',              #PASS\n",
        "    '',\n",
        "    'fds'               #FAIL\n",
        "]\n",
        "\n",
        "run(test2, '^.*\\d.*$')"
      ],
      "execution_count": null,
      "outputs": []
    },
    {
      "cell_type": "code",
      "metadata": {
        "id": "qy76kxoOkmRF"
      },
      "source": [
        "test3 = [\n",
        "    'pas.', #PASS\n",
        "    'vrt?', #PASS\n",
        "    'vrh!', #PASS\n",
        "    'cep?', #PASS\n",
        "    'ruz.', #PASS\n",
        "    '',\n",
        "    'sup',  #FAIL\n",
        "    'kos',  #FAIL\n",
        "    'crvs', #FAIL\n",
        "    'krv',  #FAIL\n",
        "    'trnr'  #FAIL\n",
        "]\n",
        "\n",
        "run(test3, '^.*[\\.?!]$')"
      ],
      "execution_count": null,
      "outputs": []
    },
    {
      "cell_type": "code",
      "metadata": {
        "id": "MauUpptBkmky"
      },
      "source": [
        "test4 = [\n",
        "    '4 jaja',               #PASS\n",
        "    '9 kifli',              #PASS\n",
        "    '4 pakovanja mleka',    #PASS\n",
        "    '7 flasa jogurta',      #PASS\n",
        "    '',\n",
        "    '3 kartona mleka',      #FAIL\n",
        "    '1 vekna hleba',        #FAIL\n",
        "    '2 kutije keksa'        #FAIL\n",
        "]\n",
        "\n",
        "run(test4, '^[479].*$')"
      ],
      "execution_count": null,
      "outputs": []
    },
    {
      "cell_type": "code",
      "metadata": {
        "id": "IbE3Hh_zkm91"
      },
      "source": [
        "test5 = [\n",
        "    'Dete ide na pecanje.',         #PASS\n",
        "    'Stefan zaliva cvece.',         #PASS\n",
        "    'Marko od juce svira klavir.',  #PASS\n",
        "    'Majsor opravlja sijalicu.',    #PASS\n",
        "    '',\n",
        "    'posetili smo Suboticu.',       #FAIL\n",
        "    'bili smo u Nemackoj.',         #FAIL\n",
        "    'puno pozdravi Aleksandru.',    #FAIL\n",
        "    'nastimovacemo giratu ujutru.'  #FAIL\n",
        "]\n",
        "\n",
        "run(test5, '^[A-Z].*$')"
      ],
      "execution_count": null,
      "outputs": []
    },
    {
      "cell_type": "code",
      "metadata": {
        "id": "4a9O2x-1knXd"
      },
      "source": [
        "test6 = [\n",
        "    '11111122233',  #PASS\n",
        "    '11123333',     #PASS\n",
        "    '112333',       #PASS\n",
        "    '11333',        #PASS\n",
        "    '',\n",
        "    '22333',        #FAIL\n",
        "    '1',            #FAIL\n",
        "    '11112223',     #FAIL\n",
        "    '1133333'       #FAIL\n",
        "]\n",
        "\n",
        "run(test6, '^1{2,}2*3{2,4}$')"
      ],
      "execution_count": null,
      "outputs": []
    },
    {
      "cell_type": "code",
      "metadata": {
        "id": "cEckG2GikufX"
      },
      "source": [
        "test7 = [\n",
        "    'Ovde_ima_jedan razmak.',           #PASS\n",
        "    'Ovde_ima_dva  razmaka.',           #PASS\n",
        "    'Ovde_ima_tri   razmaka.',          #PASS\n",
        "    'Ovde_ima_cetiri        razmaka.',  #PASS\n",
        "    '',\n",
        "    'Ovde_nema_razmaka.'                #FAIL\n",
        "]\n",
        "\n",
        "run(test7, '^.*\\s.*$')"
      ],
      "execution_count": null,
      "outputs": []
    },
    {
      "cell_type": "code",
      "metadata": {
        "id": "TXIJQXbAkvEH"
      },
      "source": [
        "test8 = [\n",
        "    'jor',      #PASS\n",
        "    'djar',     #PASS\n",
        "    'tjeri',    #PASS\n",
        "    'porj rut', #PASS\n",
        "    'psejora',  #PASS\n",
        "    '',\n",
        "    'jr',       #FAIL\n",
        "    'Jor',      #FAIL\n",
        "    'jear',     #FAIL\n",
        "    'jahr'      #FAIL\n",
        "]\n",
        "\n",
        "run(test8, '^(jor|[dtp]).*$')"
      ],
      "execution_count": null,
      "outputs": []
    },
    {
      "cell_type": "code",
      "metadata": {
        "id": "kiJ5kncrfB5o"
      },
      "source": [
        "test9 = [\n",
        "    'zxxlxping',    #PASS\n",
        "    'rzxlpzhz',     #PASS\n",
        "    'bzxlhp',       #PASS\n",
        "    'bzxxlpit',     #PASS\n",
        "    'zxxlzping',    #PASS\n",
        "    'rzxlpzhe',     #PASS\n",
        "    'bzxxl pit',    #PASS\n",
        "    '',\n",
        "    'xlop',         #FAIL\n",
        "    'z xlp',        #FAIL\n",
        "    'zxxlm',        #FAIL\n",
        "    'zxxxhp',       #FAIL\n",
        "    'zxl.P',        #FAIL\n",
        "    'zxx lm',       #FAIL\n",
        "    'zxxxhlp'       #FAIL\n",
        "]\n",
        "\n",
        "run(test9, '^[zrb][^\\s](?!.*lm)(?!.*P)(?!.*[^l]hl?p).*$')"
      ],
      "execution_count": null,
      "outputs": []
    }
  ]
}